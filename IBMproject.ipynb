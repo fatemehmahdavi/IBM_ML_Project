{
  "nbformat": 4,
  "nbformat_minor": 0,
  "metadata": {
    "colab": {
      "provenance": [],
      "include_colab_link": true
    },
    "kernelspec": {
      "name": "python3",
      "display_name": "Python 3"
    },
    "language_info": {
      "name": "python"
    }
  },
  "cells": [
    {
      "cell_type": "markdown",
      "metadata": {
        "id": "view-in-github",
        "colab_type": "text"
      },
      "source": [
        "<a href=\"https://colab.research.google.com/github/fatemehmahdavi/IBM_ML_Project/blob/main/IBMproject.ipynb\" target=\"_parent\"><img src=\"https://colab.research.google.com/assets/colab-badge.svg\" alt=\"Open In Colab\"/></a>"
      ]
    },
    {
      "cell_type": "code",
      "execution_count": null,
      "metadata": {
        "id": "FqZ1TenmBeb6"
      },
      "outputs": [],
      "source": [
        "# IBM X DataSoc project!"
      ]
    },
    {
      "cell_type": "code",
      "source": [],
      "metadata": {
        "id": "l4gJETEpC3_A"
      },
      "execution_count": null,
      "outputs": []
    }
  ]
}